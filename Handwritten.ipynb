{
 "cells": [
  {
   "cell_type": "code",
   "execution_count": 1,
   "id": "eb272454",
   "metadata": {},
   "outputs": [],
   "source": [
    "import numpy as np\n",
    "import pandas as pd\n",
    "from sklearn.datasets import fetch_openml"
   ]
  },
  {
   "cell_type": "code",
   "execution_count": 2,
   "id": "4a61b73d",
   "metadata": {},
   "outputs": [],
   "source": [
    "mnist = fetch_openml('mnist_784', as_frame=False)"
   ]
  },
  {
   "cell_type": "code",
   "execution_count": 3,
   "id": "36a6166b",
   "metadata": {},
   "outputs": [],
   "source": [
    "X, y = mnist['data'], mnist['target']"
   ]
  },
  {
   "cell_type": "code",
   "execution_count": 4,
   "id": "19242225",
   "metadata": {},
   "outputs": [
    {
     "data": {
      "text/plain": [
       "(70000, 784)"
      ]
     },
     "execution_count": 4,
     "metadata": {},
     "output_type": "execute_result"
    }
   ],
   "source": [
    "X.shape"
   ]
  },
  {
   "cell_type": "code",
   "execution_count": 5,
   "id": "88882181",
   "metadata": {},
   "outputs": [
    {
     "data": {
      "text/plain": [
       "(70000,)"
      ]
     },
     "execution_count": 5,
     "metadata": {},
     "output_type": "execute_result"
    }
   ],
   "source": [
    "y.shape"
   ]
  },
  {
   "cell_type": "code",
   "execution_count": 6,
   "id": "76704c1c",
   "metadata": {},
   "outputs": [],
   "source": [
    "%matplotlib inline\n",
    "import matplotlib.pyplot as plt"
   ]
  },
  {
   "cell_type": "code",
   "execution_count": 68,
   "id": "5c328e53",
   "metadata": {},
   "outputs": [],
   "source": [
    "some_digit = X[360]\n",
    "some_digit_image = some_digit.reshape(28, 28)"
   ]
  },
  {
   "cell_type": "code",
   "execution_count": 69,
   "id": "a2ad0a25",
   "metadata": {},
   "outputs": [
    {
     "data": {
      "text/plain": [
       "(-0.5, 27.5, 27.5, -0.5)"
      ]
     },
     "execution_count": 69,
     "metadata": {},
     "output_type": "execute_result"
    },
    {
     "data": {
      "image/png": "[encoded data removed]",
      "text/plain": [
       "<Figure size 432x288 with 1 Axes>"
      ]
     },
     "metadata": {
      "needs_background": "light"
     },
     "output_type": "display_data"
    }
   ],
   "source": [
    "plt.imshow(some_digit_image, interpolation='nearest')\n",
    "plt.axis('off')"
   ]
  },
  {
   "cell_type": "code",
   "execution_count": 70,
   "id": "13128d54",
   "metadata": {},
   "outputs": [
    {
     "data": {
      "text/plain": [
       "'2'"
      ]
     },
     "execution_count": 70,
     "metadata": {},
     "output_type": "execute_result"
    }
   ],
   "source": [
    "y[360]"
   ]
  },
  {
   "cell_type": "code",
   "execution_count": 71,
   "id": "92dc2d0c",
   "metadata": {},
   "outputs": [],
   "source": [
    "X_train, X_test = X[:600], X[600:1200]"
   ]
  },
  {
   "cell_type": "code",
   "execution_count": 72,
   "id": "36440388",
   "metadata": {},
   "outputs": [],
   "source": [
    "y_train, y_test = y[:600], y[600:1200]"
   ]
  },
  {
   "cell_type": "code",
   "execution_count": 73,
   "id": "fe7b225e",
   "metadata": {},
   "outputs": [],
   "source": [
    "shuffle_index = np.random.permutation(600)\n",
    "X_train, y_train = X_train[shuffle_index], y_train[shuffle_index]"
   ]
  },
  {
   "cell_type": "markdown",
   "id": "da6d46f4",
   "metadata": {},
   "source": [
    "## Creating a 2 detector"
   ]
  },
  {
   "cell_type": "code",
   "execution_count": 74,
   "id": "bee4261a",
   "metadata": {},
   "outputs": [],
   "source": [
    "y_train = y_train.astype(np.int8)\n",
    "y_test = y_test.astype(np.int8)\n",
    "y_train_2 = (y_train == 2)\n",
    "y_test_2 = (y_test == 2)"
   ]
  },
  {
   "cell_type": "code",
   "execution_count": 75,
   "id": "abb9309e",
   "metadata": {},
   "outputs": [],
   "source": [
    "# y_train"
   ]
  },
  {
   "cell_type": "code",
   "execution_count": 76,
   "id": "344d3d06",
   "metadata": {},
   "outputs": [],
   "source": [
    "from sklearn.linear_model import LogisticRegression"
   ]
  },
  {
   "cell_type": "code",
   "execution_count": 77,
   "id": "feba5ed9",
   "metadata": {},
   "outputs": [],
   "source": [
    "clf = LogisticRegression()"
   ]
  },
  {
   "cell_type": "code",
   "execution_count": 78,
   "id": "bf5bf05b",
   "metadata": {},
   "outputs": [
    {
     "name": "stderr",
     "output_type": "stream",
     "text": [
      "C:\\Users\\priya\\anaconda\\lib\\site-packages\\sklearn\\linear_model\\_logistic.py:763: ConvergenceWarning: lbfgs failed to converge (status=1):\n",
      "STOP: TOTAL NO. of ITERATIONS REACHED LIMIT.\n",
      "\n",
      "Increase the number of iterations (max_iter) or scale the data as shown in:\n",
      "    https://scikit-learn.org/stable/modules/preprocessing.html\n",
      "Please also refer to the documentation for alternative solver options:\n",
      "    https://scikit-learn.org/stable/modules/linear_model.html#logistic-regression\n",
      "  n_iter_i = _check_optimize_result(\n"
     ]
    },
    {
     "data": {
      "text/plain": [
       "LogisticRegression()"
      ]
     },
     "execution_count": 78,
     "metadata": {},
     "output_type": "execute_result"
    }
   ],
   "source": [
    "clf.fit(X_train, y_train_2)"
   ]
  },
  {
   "cell_type": "code",
   "execution_count": 79,
   "id": "0383ff51",
   "metadata": {},
   "outputs": [
    {
     "data": {
      "text/plain": [
       "array([ True])"
      ]
     },
     "execution_count": 79,
     "metadata": {},
     "output_type": "execute_result"
    }
   ],
   "source": [
    "clf.predict([some_digit])"
   ]
  },
  {
   "cell_type": "code",
   "execution_count": 80,
   "id": "1cc81fc9",
   "metadata": {},
   "outputs": [],
   "source": [
    "from sklearn.model_selection import cross_val_score"
   ]
  },
  {
   "cell_type": "code",
   "execution_count": 81,
   "id": "8a89caf3",
   "metadata": {},
   "outputs": [
    {
     "data": {
      "text/plain": [
       "array([0.93, 0.96, 0.95])"
      ]
     },
     "execution_count": 81,
     "metadata": {},
     "output_type": "execute_result"
    }
   ],
   "source": [
    "a = cross_val_score(clf, X_train, y_train_2, cv=3, scoring='accuracy')\n",
    "a"
   ]
  },
  {
   "cell_type": "code",
   "execution_count": 82,
   "id": "739fae91",
   "metadata": {},
   "outputs": [
    {
     "data": {
      "text/plain": [
       "0.9466666666666667"
      ]
     },
     "execution_count": 82,
     "metadata": {},
     "output_type": "execute_result"
    }
   ],
   "source": [
    "a.mean()"
   ]
  },
  {
   "cell_type": "code",
   "execution_count": 83,
   "id": "595e40a0",
   "metadata": {},
   "outputs": [],
   "source": [
    "from sklearn.model_selection import cross_val_predict\n",
    "y_train_pred = cross_val_predict(clf, X_train, y_train_2, cv=3)"
   ]
  },
  {
   "cell_type": "code",
   "execution_count": 85,
   "id": "0f8104c9",
   "metadata": {},
   "outputs": [],
   "source": [
    "# y_train_pred"
   ]
  },
  {
   "cell_type": "markdown",
   "id": "ff6cc47f",
   "metadata": {},
   "source": [
    "## Confusion Matrix"
   ]
  },
  {
   "cell_type": "code",
   "execution_count": 86,
   "id": "b274716d",
   "metadata": {},
   "outputs": [],
   "source": [
    "from sklearn.metrics import confusion_matrix"
   ]
  },
  {
   "cell_type": "code",
   "execution_count": 91,
   "id": "e3ec2fd9",
   "metadata": {},
   "outputs": [
    {
     "data": {
      "text/plain": [
       "array([[522,  14],\n",
       "       [ 18,  46]], dtype=int64)"
      ]
     },
     "execution_count": 91,
     "metadata": {},
     "output_type": "execute_result"
    }
   ],
   "source": [
    "confusion_matrix(y_train_2, y_train_pred)"
   ]
  },
  {
   "cell_type": "code",
   "execution_count": 92,
   "id": "c6be2c39",
   "metadata": {},
   "outputs": [
    {
     "data": {
      "text/plain": [
       "array([[536,   0],\n",
       "       [  0,  64]], dtype=int64)"
      ]
     },
     "execution_count": 92,
     "metadata": {},
     "output_type": "execute_result"
    }
   ],
   "source": [
    "#Prefect Matrix\n",
    "confusion_matrix(y_train_2, y_train_2)"
   ]
  },
  {
   "cell_type": "markdown",
   "id": "182c5b3e",
   "metadata": {},
   "source": [
    "### Precision & Recall"
   ]
  },
  {
   "cell_type": "code",
   "execution_count": 93,
   "id": "3a9393fd",
   "metadata": {},
   "outputs": [],
   "source": [
    "from sklearn.metrics import precision_score, recall_score"
   ]
  },
  {
   "cell_type": "code",
   "execution_count": 94,
   "id": "cd72df62",
   "metadata": {},
   "outputs": [
    {
     "data": {
      "text/plain": [
       "0.7666666666666667"
      ]
     },
     "execution_count": 94,
     "metadata": {},
     "output_type": "execute_result"
    }
   ],
   "source": [
    "precision_score(y_train_2, y_train_pred)"
   ]
  },
  {
   "cell_type": "code",
   "execution_count": 95,
   "id": "07546958",
   "metadata": {},
   "outputs": [
    {
     "data": {
      "text/plain": [
       "0.71875"
      ]
     },
     "execution_count": 95,
     "metadata": {},
     "output_type": "execute_result"
    }
   ],
   "source": [
    "recall_score(y_train_2, y_train_pred)"
   ]
  },
  {
   "cell_type": "markdown",
   "id": "04882316",
   "metadata": {},
   "source": [
    "## F1-Score"
   ]
  },
  {
   "cell_type": "code",
   "execution_count": 96,
   "id": "231674a6",
   "metadata": {},
   "outputs": [],
   "source": [
    "from sklearn.metrics import f1_score"
   ]
  },
  {
   "cell_type": "code",
   "execution_count": 97,
   "id": "c6e70e86",
   "metadata": {},
   "outputs": [
    {
     "data": {
      "text/plain": [
       "0.7419354838709677"
      ]
     },
     "execution_count": 97,
     "metadata": {},
     "output_type": "execute_result"
    }
   ],
   "source": [
    "f1_score(y_train_2, y_train_pred)"
   ]
  },
  {
   "cell_type": "markdown",
   "id": "43bd17ba",
   "metadata": {},
   "source": [
    "## Precision-Recall Curve"
   ]
  },
  {
   "cell_type": "code",
   "execution_count": 103,
   "id": "416e6764",
   "metadata": {},
   "outputs": [],
   "source": [
    "from sklearn.metrics import precision_recall_curve"
   ]
  },
  {
   "cell_type": "code",
   "execution_count": 104,
   "id": "27bc9da3",
   "metadata": {},
   "outputs": [],
   "source": [
    "y_scores = cross_val_predict(clf, X_train, y_train_2, cv=3, method='decision_function')"
   ]
  },
  {
   "cell_type": "code",
   "execution_count": 105,
   "id": "09fb95ea",
   "metadata": {},
   "outputs": [],
   "source": [
    "precision, recall, thresholds = precision_recall_curve(y_train_2, y_scores)"
   ]
  },
  {
   "cell_type": "code",
   "execution_count": 106,
   "id": "4fdd6944",
   "metadata": {},
   "outputs": [
    {
     "data": {
      "text/plain": [
       "array([0.21192053, 0.20930233, 0.21      , 0.21070234, 0.2114094 ,\n",
       "       0.21212121, 0.21283784, 0.21355932, 0.21428571, 0.21501706,\n",
       "       0.21575342, 0.21649485, 0.21724138, 0.21799308, 0.21875   ,\n",
       "       0.2195122 , 0.22027972, 0.22105263, 0.22183099, 0.22261484,\n",
       "       0.22340426, 0.22419929, 0.225     , 0.22580645, 0.22661871,\n",
       "       0.22743682, 0.22826087, 0.22909091, 0.22992701, 0.23076923,\n",
       "       0.23161765, 0.23247232, 0.23333333, 0.23420074, 0.23507463,\n",
       "       0.23595506, 0.23684211, 0.23773585, 0.23863636, 0.23954373,\n",
       "       0.24045802, 0.24137931, 0.24230769, 0.24324324, 0.24418605,\n",
       "       0.24513619, 0.24609375, 0.24705882, 0.2480315 , 0.24901186,\n",
       "       0.25      , 0.25099602, 0.252     , 0.25301205, 0.25403226,\n",
       "       0.25506073, 0.25609756, 0.25714286, 0.25819672, 0.25925926,\n",
       "       0.26033058, 0.26141079, 0.2625    , 0.26359833, 0.26470588,\n",
       "       0.26582278, 0.26694915, 0.26808511, 0.26923077, 0.27038627,\n",
       "       0.27155172, 0.27272727, 0.27391304, 0.27510917, 0.27631579,\n",
       "       0.27753304, 0.27876106, 0.28      , 0.27678571, 0.27802691,\n",
       "       0.27927928, 0.28054299, 0.28181818, 0.28310502, 0.28440367,\n",
       "       0.28110599, 0.28240741, 0.28372093, 0.28504673, 0.28638498,\n",
       "       0.28301887, 0.27962085, 0.28095238, 0.28229665, 0.28365385,\n",
       "       0.28502415, 0.28640777, 0.28780488, 0.28921569, 0.29064039,\n",
       "       0.29207921, 0.29353234, 0.295     , 0.29648241, 0.2979798 ,\n",
       "       0.29441624, 0.29081633, 0.29230769, 0.29381443, 0.29533679,\n",
       "       0.296875  , 0.29842932, 0.3       , 0.3015873 , 0.30319149,\n",
       "       0.30481283, 0.30645161, 0.30810811, 0.30978261, 0.31147541,\n",
       "       0.31318681, 0.31491713, 0.31666667, 0.31843575, 0.32022472,\n",
       "       0.3220339 , 0.32386364, 0.32571429, 0.32183908, 0.32369942,\n",
       "       0.3255814 , 0.32748538, 0.32941176, 0.33136095, 0.33333333,\n",
       "       0.33532934, 0.3373494 , 0.33939394, 0.34146341, 0.34355828,\n",
       "       0.34567901, 0.34782609, 0.35      , 0.35220126, 0.35443038,\n",
       "       0.3566879 , 0.35897436, 0.36129032, 0.36363636, 0.36601307,\n",
       "       0.36842105, 0.37086093, 0.37333333, 0.37583893, 0.37837838,\n",
       "       0.38095238, 0.37671233, 0.37931034, 0.38194444, 0.38461538,\n",
       "       0.38732394, 0.39007092, 0.39285714, 0.39568345, 0.39855072,\n",
       "       0.40145985, 0.40441176, 0.40740741, 0.41044776, 0.41353383,\n",
       "       0.41666667, 0.41984733, 0.42307692, 0.42635659, 0.4296875 ,\n",
       "       0.43307087, 0.43650794, 0.44      , 0.44354839, 0.44715447,\n",
       "       0.45081967, 0.45454545, 0.45833333, 0.46218487, 0.46610169,\n",
       "       0.47008547, 0.47413793, 0.47826087, 0.48245614, 0.48672566,\n",
       "       0.49107143, 0.4954955 , 0.5       , 0.50458716, 0.50925926,\n",
       "       0.5046729 , 0.50943396, 0.51428571, 0.51923077, 0.52427184,\n",
       "       0.52941176, 0.53465347, 0.54      , 0.54545455, 0.55102041,\n",
       "       0.55670103, 0.5625    , 0.56842105, 0.57446809, 0.58064516,\n",
       "       0.58695652, 0.59340659, 0.6       , 0.60674157, 0.61363636,\n",
       "       0.6091954 , 0.61627907, 0.62352941, 0.61904762, 0.62650602,\n",
       "       0.62195122, 0.62962963, 0.625     , 0.63291139, 0.64102564,\n",
       "       0.64935065, 0.65789474, 0.66666667, 0.67567568, 0.68493151,\n",
       "       0.69444444, 0.70422535, 0.71428571, 0.72463768, 0.73529412,\n",
       "       0.74626866, 0.75757576, 0.75384615, 0.75      , 0.74603175,\n",
       "       0.75806452, 0.7704918 , 0.76666667, 0.77966102, 0.79310345,\n",
       "       0.78947368, 0.80357143, 0.8       , 0.81481481, 0.83018868,\n",
       "       0.84615385, 0.8627451 , 0.86      , 0.87755102, 0.89583333,\n",
       "       0.91489362, 0.93478261, 0.93333333, 0.95454545, 0.95348837,\n",
       "       0.95238095, 0.95121951, 0.975     , 0.97435897, 0.97368421,\n",
       "       0.97297297, 0.97222222, 0.97142857, 0.97058824, 0.96969697,\n",
       "       0.96875   , 0.96774194, 1.        , 1.        , 1.        ,\n",
       "       1.        , 1.        , 1.        , 1.        , 1.        ,\n",
       "       1.        , 1.        , 1.        , 1.        , 1.        ,\n",
       "       1.        , 1.        , 1.        , 1.        , 1.        ,\n",
       "       1.        , 1.        , 1.        , 1.        , 1.        ,\n",
       "       1.        , 1.        , 1.        , 1.        , 1.        ,\n",
       "       1.        , 1.        , 1.        ])"
      ]
     },
     "execution_count": 106,
     "metadata": {},
     "output_type": "execute_result"
    }
   ],
   "source": [
    "precision"
   ]
  },
  {
   "cell_type": "code",
   "execution_count": 107,
   "id": "454b662b",
   "metadata": {},
   "outputs": [
    {
     "data": {
      "text/plain": [
       "array([1.      , 0.984375, 0.984375, 0.984375, 0.984375, 0.984375,\n",
       "       0.984375, 0.984375, 0.984375, 0.984375, 0.984375, 0.984375,\n",
       "       0.984375, 0.984375, 0.984375, 0.984375, 0.984375, 0.984375,\n",
       "       0.984375, 0.984375, 0.984375, 0.984375, 0.984375, 0.984375,\n",
       "       0.984375, 0.984375, 0.984375, 0.984375, 0.984375, 0.984375,\n",
       "       0.984375, 0.984375, 0.984375, 0.984375, 0.984375, 0.984375,\n",
       "       0.984375, 0.984375, 0.984375, 0.984375, 0.984375, 0.984375,\n",
       "       0.984375, 0.984375, 0.984375, 0.984375, 0.984375, 0.984375,\n",
       "       0.984375, 0.984375, 0.984375, 0.984375, 0.984375, 0.984375,\n",
       "       0.984375, 0.984375, 0.984375, 0.984375, 0.984375, 0.984375,\n",
       "       0.984375, 0.984375, 0.984375, 0.984375, 0.984375, 0.984375,\n",
       "       0.984375, 0.984375, 0.984375, 0.984375, 0.984375, 0.984375,\n",
       "       0.984375, 0.984375, 0.984375, 0.984375, 0.984375, 0.984375,\n",
       "       0.96875 , 0.96875 , 0.96875 , 0.96875 , 0.96875 , 0.96875 ,\n",
       "       0.96875 , 0.953125, 0.953125, 0.953125, 0.953125, 0.953125,\n",
       "       0.9375  , 0.921875, 0.921875, 0.921875, 0.921875, 0.921875,\n",
       "       0.921875, 0.921875, 0.921875, 0.921875, 0.921875, 0.921875,\n",
       "       0.921875, 0.921875, 0.921875, 0.90625 , 0.890625, 0.890625,\n",
       "       0.890625, 0.890625, 0.890625, 0.890625, 0.890625, 0.890625,\n",
       "       0.890625, 0.890625, 0.890625, 0.890625, 0.890625, 0.890625,\n",
       "       0.890625, 0.890625, 0.890625, 0.890625, 0.890625, 0.890625,\n",
       "       0.890625, 0.890625, 0.875   , 0.875   , 0.875   , 0.875   ,\n",
       "       0.875   , 0.875   , 0.875   , 0.875   , 0.875   , 0.875   ,\n",
       "       0.875   , 0.875   , 0.875   , 0.875   , 0.875   , 0.875   ,\n",
       "       0.875   , 0.875   , 0.875   , 0.875   , 0.875   , 0.875   ,\n",
       "       0.875   , 0.875   , 0.875   , 0.875   , 0.875   , 0.875   ,\n",
       "       0.859375, 0.859375, 0.859375, 0.859375, 0.859375, 0.859375,\n",
       "       0.859375, 0.859375, 0.859375, 0.859375, 0.859375, 0.859375,\n",
       "       0.859375, 0.859375, 0.859375, 0.859375, 0.859375, 0.859375,\n",
       "       0.859375, 0.859375, 0.859375, 0.859375, 0.859375, 0.859375,\n",
       "       0.859375, 0.859375, 0.859375, 0.859375, 0.859375, 0.859375,\n",
       "       0.859375, 0.859375, 0.859375, 0.859375, 0.859375, 0.859375,\n",
       "       0.859375, 0.859375, 0.859375, 0.84375 , 0.84375 , 0.84375 ,\n",
       "       0.84375 , 0.84375 , 0.84375 , 0.84375 , 0.84375 , 0.84375 ,\n",
       "       0.84375 , 0.84375 , 0.84375 , 0.84375 , 0.84375 , 0.84375 ,\n",
       "       0.84375 , 0.84375 , 0.84375 , 0.84375 , 0.84375 , 0.828125,\n",
       "       0.828125, 0.828125, 0.8125  , 0.8125  , 0.796875, 0.796875,\n",
       "       0.78125 , 0.78125 , 0.78125 , 0.78125 , 0.78125 , 0.78125 ,\n",
       "       0.78125 , 0.78125 , 0.78125 , 0.78125 , 0.78125 , 0.78125 ,\n",
       "       0.78125 , 0.78125 , 0.78125 , 0.765625, 0.75    , 0.734375,\n",
       "       0.734375, 0.734375, 0.71875 , 0.71875 , 0.71875 , 0.703125,\n",
       "       0.703125, 0.6875  , 0.6875  , 0.6875  , 0.6875  , 0.6875  ,\n",
       "       0.671875, 0.671875, 0.671875, 0.671875, 0.671875, 0.65625 ,\n",
       "       0.65625 , 0.640625, 0.625   , 0.609375, 0.609375, 0.59375 ,\n",
       "       0.578125, 0.5625  , 0.546875, 0.53125 , 0.515625, 0.5     ,\n",
       "       0.484375, 0.46875 , 0.46875 , 0.453125, 0.4375  , 0.421875,\n",
       "       0.40625 , 0.390625, 0.375   , 0.359375, 0.34375 , 0.328125,\n",
       "       0.3125  , 0.296875, 0.28125 , 0.265625, 0.25    , 0.234375,\n",
       "       0.21875 , 0.203125, 0.1875  , 0.171875, 0.15625 , 0.140625,\n",
       "       0.125   , 0.109375, 0.09375 , 0.078125, 0.0625  , 0.046875,\n",
       "       0.03125 , 0.015625, 0.      ])"
      ]
     },
     "execution_count": 107,
     "metadata": {},
     "output_type": "execute_result"
    }
   ],
   "source": [
    "recall"
   ]
  },
  {
   "cell_type": "code",
   "execution_count": 108,
   "id": "3488c460",
   "metadata": {},
   "outputs": [
    {
     "data": {
      "text/plain": [
       "array([-22.60945966, -22.57465681, -22.57074062, -22.4799786 ,\n",
       "       -22.39999452, -22.35994585, -22.35071603, -22.34059253,\n",
       "       -22.33363878, -22.29874433, -22.17306217, -22.10632899,\n",
       "       -22.02326758, -21.87479735, -21.79546128, -21.69242592,\n",
       "       -21.68908602, -21.66463448, -21.50356654, -21.32523388,\n",
       "       -21.28932818, -21.25724754, -21.07308949, -20.91785065,\n",
       "       -20.7920203 , -20.5978684 , -20.44191125, -20.44027848,\n",
       "       -20.30790694, -20.23334886, -20.17456365, -20.13905943,\n",
       "       -20.04464191, -19.99493404, -19.96259508, -19.92467672,\n",
       "       -19.80525148, -19.60222733, -19.59616541, -19.51981049,\n",
       "       -19.4142839 , -19.22733025, -19.22116155, -19.18708155,\n",
       "       -19.10767955, -19.0145226 , -18.96101703, -18.90808201,\n",
       "       -18.90781765, -18.78871258, -18.7491748 , -18.48886188,\n",
       "       -18.3728241 , -18.34403081, -18.33996299, -18.30048117,\n",
       "       -18.1595989 , -18.06532972, -18.00071049, -17.96896095,\n",
       "       -17.94637562, -17.94166802, -17.85090721, -17.85018247,\n",
       "       -17.75996536, -17.73710185, -17.72538209, -17.60570363,\n",
       "       -17.52391308, -17.4027959 , -17.28431932, -17.26757835,\n",
       "       -17.21666193, -17.15454701, -16.96114917, -16.83185412,\n",
       "       -16.80075357, -16.76115215, -16.72983292, -16.71082018,\n",
       "       -16.58370983, -16.51407834, -16.49006639, -16.3230094 ,\n",
       "       -16.20456804, -16.19351116, -16.18644727, -16.17323027,\n",
       "       -16.1648367 , -16.13333757, -16.13074068, -16.12287624,\n",
       "       -16.09136089, -15.99757807, -15.96645191, -15.92110723,\n",
       "       -15.90734438, -15.8942561 , -15.75866934, -15.60661443,\n",
       "       -15.59416888, -15.49732682, -15.48841008, -15.3986717 ,\n",
       "       -15.38788134, -15.19248313, -15.10563617, -15.05592284,\n",
       "       -14.98308597, -14.89759815, -14.85754366, -14.80301783,\n",
       "       -14.76235904, -14.72928654, -14.71920427, -14.64991537,\n",
       "       -14.55652772, -14.51802957, -14.51459043, -14.49365342,\n",
       "       -14.41137696, -14.40933194, -14.28594385, -14.25323192,\n",
       "       -14.19538254, -14.09291283, -14.06359022, -13.9803518 ,\n",
       "       -13.94221426, -13.91980408, -13.89476009, -13.87483077,\n",
       "       -13.65650066, -13.61679876, -13.61036487, -13.5900068 ,\n",
       "       -13.49035938, -13.480525  , -13.43047334, -13.42265968,\n",
       "       -13.41158466, -13.4069151 , -13.38098163, -13.36997521,\n",
       "       -13.21051256, -13.10682226, -13.10417531, -13.00086925,\n",
       "       -12.98297548, -12.88828714, -12.85587351, -12.80759904,\n",
       "       -12.75554347, -12.62769754, -12.61855298, -12.57595325,\n",
       "       -12.51699857, -12.49332577, -12.46155678, -12.34258309,\n",
       "       -12.14395441, -11.94297843, -11.90913637, -11.87311744,\n",
       "       -11.84293022, -11.70849507, -11.70677017, -11.68194165,\n",
       "       -11.68040086, -11.62904004, -11.58685253, -11.52173525,\n",
       "       -11.47447059, -11.42327514, -11.41709067, -11.31147836,\n",
       "       -10.28783678, -10.22799924, -10.18002137, -10.12055538,\n",
       "       -10.04811305, -10.03209833,  -9.99784234,  -9.94947523,\n",
       "        -9.92250668,  -9.90433754,  -9.84725733,  -9.7804178 ,\n",
       "        -9.64129233,  -9.55129239,  -9.49452359,  -9.33876714,\n",
       "        -9.30131042,  -9.23881619,  -9.20133908,  -9.19449786,\n",
       "        -9.04977612,  -8.90962907,  -8.73542912,  -8.47436965,\n",
       "        -8.211097  ,  -8.06978251,  -7.70903459,  -7.38180366,\n",
       "        -7.35422333,  -6.85292313,  -6.79217051,  -6.67346878,\n",
       "        -6.438501  ,  -6.40468587,  -6.27939915,  -6.25178121,\n",
       "        -6.19128196,  -5.95238679,  -5.86248168,  -5.37781324,\n",
       "        -5.33488077,  -5.104546  ,  -4.4200236 ,  -4.3811943 ,\n",
       "        -4.30363347,  -4.13262729,  -3.61704391,  -3.4444288 ,\n",
       "        -3.28904809,  -3.01242556,  -2.65187125,  -2.5617997 ,\n",
       "        -2.53271595,  -2.42855779,  -2.24955643,  -2.11793576,\n",
       "        -2.02488652,  -1.66605874,  -1.48190861,  -1.45452723,\n",
       "        -1.42923805,  -1.30121523,  -1.30116088,  -0.71342778,\n",
       "        -0.38513307,  -0.06595077,   0.25791467,   0.28019365,\n",
       "         1.05610505,   1.50339552,   1.639285  ,   1.8584612 ,\n",
       "         2.6940683 ,   3.25725697,   3.32985262,   3.33503169,\n",
       "         3.60768372,   4.04509737,   4.99157863,   5.17822095,\n",
       "         6.53985458,   6.7987877 ,   8.48887849,   8.75706772,\n",
       "         9.68980232,   9.72391331,  10.64155159,  10.99343456,\n",
       "        11.0010467 ,  12.02736549,  12.09623892,  12.1866741 ,\n",
       "        12.44887245,  14.8736953 ,  15.18615602,  15.75704496,\n",
       "        16.07166774,  16.14199887,  16.19768133,  16.69198971,\n",
       "        17.64455926,  18.28365248,  18.73662562,  18.99625688,\n",
       "        19.47392354,  19.80218662,  19.81989018,  19.82638527,\n",
       "        20.17150428,  20.19141037,  20.74773765,  22.01710694,\n",
       "        22.04186992,  22.59294292,  22.97878107,  23.48669875,\n",
       "        23.74377484,  25.68494875,  26.90982361,  27.01218344,\n",
       "        28.40963265,  28.89409646,  33.23543338,  34.93651956,\n",
       "        35.09757162,  35.7493185 ])"
      ]
     },
     "execution_count": 108,
     "metadata": {},
     "output_type": "execute_result"
    }
   ],
   "source": [
    "thresholds"
   ]
  },
  {
   "cell_type": "code",
   "execution_count": 116,
   "id": "83a2bde4",
   "metadata": {},
   "outputs": [
    {
     "data": {
      "image/png": "[encoded data removed]",
      "text/plain": [
       "<Figure size 432x288 with 1 Axes>"
      ]
     },
     "metadata": {
      "needs_background": "light"
     },
     "output_type": "display_data"
    }
   ],
   "source": [
    "plt.plot(thresholds, precision[:-1], \"b--\", label=\"Precision\")\n",
    "plt.plot(thresholds, recall[:-1], \"g--\", label=\"Recall\")\n",
    "plt.xlabel(\"Threshold\")\n",
    "plt.ylim([0,1])\n",
    "plt.legend()\n",
    "plt.show()"
   ]
  },
  {
   "cell_type": "code",
   "execution_count": null,
   "id": "4094d939",
   "metadata": {},
   "outputs": [],
   "source": []
  }
 ],
 "metadata": {
  "kernelspec": {
   "display_name": "Python 3",
   "language": "python",
   "name": "python3"
  },
  "language_info": {
   "codemirror_mode": {
    "name": "ipython",
    "version": 3
   },
   "file_extension": ".py",
   "mimetype": "text/x-python",
   "name": "python",
   "nbconvert_exporter": "python",
   "pygments_lexer": "ipython3",
   "version": "3.8.8"
  }
 },
 "nbformat": 4,
 "nbformat_minor": 5
}
